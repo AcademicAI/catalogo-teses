{
 "cells": [
  {
   "cell_type": "code",
   "execution_count": null,
   "metadata": {},
   "outputs": [],
   "source": [
    "# pip install requests pandas tqdm tenacity"
   ]
  },
  {
   "cell_type": "code",
   "execution_count": 1,
   "metadata": {},
   "outputs": [],
   "source": [
    "from catalogo_teses import datasets\n",
    "\n",
    "df = datasets.get_all_datasets_with_resources()\n",
    "df = datasets.get_dataset_by_name(df)"
   ]
  },
  {
   "cell_type": "code",
   "execution_count": 2,
   "metadata": {},
   "outputs": [],
   "source": [
    "from tqdm.auto import tqdm\n",
    "from typing import Iterable\n",
    "\n",
    "def download_files(urls: Iterable[str], dest_dir: str):\n",
    "    \"\"\"Download multiple files to the given directory.\"\"\"\n",
    "    files = []\n",
    "    for url in tqdm(urls, desc=\"Baixando...\"):\n",
    "        files.append(datasets.download_file(url, dest_dir))\n",
    "    return files\n"
   ]
  },
  {
   "cell_type": "code",
   "execution_count": 3,
   "metadata": {},
   "outputs": [
    {
     "data": {
      "application/vnd.jupyter.widget-view+json": {
       "model_id": "d391f99af2d549199c89ccb9354e8dc7",
       "version_major": 2,
       "version_minor": 0
      },
      "text/plain": [
       "Baixando...:   0%|          | 0/1 [00:00<?, ?it/s]"
      ]
     },
     "metadata": {},
     "output_type": "display_data"
    },
    {
     "data": {
      "application/vnd.jupyter.widget-view+json": {
       "model_id": "bd7c3af27729432f9ddd9a0f0ff47de4",
       "version_major": 2,
       "version_minor": 0
      },
      "text/plain": [
       "dados_2012.csv:   0%|          | 0/156 [00:00<?, ?it/s]"
      ]
     },
     "metadata": {},
     "output_type": "display_data"
    },
    {
     "data": {
      "text/plain": [
       "['./data/dados_2012.csv']"
      ]
     },
     "execution_count": 3,
     "metadata": {},
     "output_type": "execute_result"
    }
   ],
   "source": [
    "download_files([df['url'].iloc[-1]], \"./data\")"
   ]
  }
 ],
 "metadata": {
  "kernelspec": {
   "display_name": "capes",
   "language": "python",
   "name": "python3"
  },
  "language_info": {
   "codemirror_mode": {
    "name": "ipython",
    "version": 3
   },
   "file_extension": ".py",
   "mimetype": "text/x-python",
   "name": "python",
   "nbconvert_exporter": "python",
   "pygments_lexer": "ipython3",
   "version": "3.11.4"
  },
  "orig_nbformat": 4
 },
 "nbformat": 4,
 "nbformat_minor": 2
}
