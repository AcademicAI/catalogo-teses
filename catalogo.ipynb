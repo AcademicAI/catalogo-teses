{
 "cells": [
  {
   "cell_type": "code",
   "execution_count": null,
   "metadata": {},
   "outputs": [],
   "source": [
    "from catalogos_capes import datasets\n",
    "\n",
    "df = datasets.get_all_datasets_with_resources()\n",
    "df = datasets.get_dataset_by_name(df)"
   ]
  },
  {
   "cell_type": "code",
   "execution_count": null,
   "metadata": {},
   "outputs": [],
   "source": [
    "from tqdm.auto import tqdm\n",
    "from typing import Iterable\n",
    "\n",
    "def download_files(urls: Iterable[str], dest_dir: str):\n",
    "    \"\"\"Download multiple files to the given directory.\"\"\"\n",
    "    files = []\n",
    "    for url in tqdm(urls, desc=\"Baixando...\"):\n",
    "        files.append(datasets.download_file(url, dest_dir))\n",
    "    return files"
   ]
  },
  {
   "cell_type": "code",
   "execution_count": null,
   "metadata": {},
   "outputs": [],
   "source": [
    "[df['url'].iloc[-2]]"
   ]
  },
  {
   "cell_type": "code",
   "execution_count": null,
   "metadata": {},
   "outputs": [],
   "source": [
    "download_files([df['url'].iloc[-2]], \"./data\")"
   ]
  },
  {
   "cell_type": "code",
   "execution_count": null,
   "metadata": {},
   "outputs": [],
   "source": [
    "import sqlite3\n",
    "import pandas as pd\n",
    "from pathlib import Path\n",
    "from pandas.errors import ParserError\n",
    "\n",
    "dataset = \"../BD_Chatbot/data/catalogo-capes/\"\n",
    "files = list(Path(dataset).glob(\"**/*.csv\"))\n",
    "\n",
    "with sqlite3.connect(\"capes.sqlite\") as conn:\n",
    "    cur = conn.cursor()\n",
    "    for filepath in tqdm(files):\n",
    "        try:\n",
    "            data = pd.read_csv(filepath, sep=';', encoding=\"latin-1\", low_memory=False)\n",
    "        except ParserError:\n",
    "            data = pd.read_csv(filepath, sep=',', encoding=\"latin-1\", low_memory=False)\n",
    "        data.columns = (\n",
    "            data.columns.str.lower()\n",
    "            .str.normalize(\"NFKD\")\n",
    "            .str.encode(\"ascii\", errors=\"ignore\")\n",
    "            .str.decode(\"utf-8\")\n",
    "            .str.replace(r\"\\s+\", \" \", regex=True)\n",
    "            .str.replace(r\"[^a-z0-9]\", \"_\", regex=True)\n",
    "            .str.strip(\"_\")\n",
    "        )\n",
    "\n",
    "        # create a table from the dataframe\n",
    "        data.to_sql(filepath.stem, conn, if_exists=\"replace\", index=False)\n",
    "\n",
    "        # commit the changes to db\n",
    "        conn.commit()"
   ]
  }
 ],
 "metadata": {
  "kernelspec": {
   "display_name": "capes",
   "language": "python",
   "name": "python3"
  },
  "language_info": {
   "codemirror_mode": {
    "name": "ipython",
    "version": 3
   },
   "file_extension": ".py",
   "mimetype": "text/x-python",
   "name": "python",
   "nbconvert_exporter": "python",
   "pygments_lexer": "ipython3",
   "version": "3.11.4"
  },
  "orig_nbformat": 4
 },
 "nbformat": 4,
 "nbformat_minor": 2
}
